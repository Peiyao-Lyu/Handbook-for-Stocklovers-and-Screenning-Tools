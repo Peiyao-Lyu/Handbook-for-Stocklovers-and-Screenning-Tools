{
 "cells": [
  {
   "cell_type": "code",
   "execution_count": null,
   "metadata": {},
   "outputs": [],
   "source": [
    "import datetime\n",
    "import numpy as np\n",
    "import pandas as pd\n",
    "%matplotlib inline\n",
    "import pandas_datareader.data as web\n",
    "import fix_yahoo_finance as yf\n",
    "import math"
   ]
  },
  {
   "cell_type": "code",
   "execution_count": null,
   "metadata": {},
   "outputs": [],
   "source": [
    "stocks = ['AAPL']\n",
    "#          ,'GS','JPM','C']\n",
    "start = datetime.datetime(2013,1,1)\n",
    "end = datetime.datetime(2018,9,24)\n",
    "df = yf.download(stocks,start = start,end = end)\n",
    "df"
   ]
  },
  {
   "cell_type": "code",
   "execution_count": null,
   "metadata": {},
   "outputs": [],
   "source": [
    "def get_moving_average(df, window):\n",
    "    df['Normal Return'] = df['Adj Close'].pct_change()\n",
    "    df[str(window) + 'day MA'] = df['Adj Close'].rolling(window).mean()\n",
    "    df['Signal'] = np.where(df[str(window) + 'day MA'] > df['Adj Close'],1,0)\n",
    "    df['Log Return'] = df['Normal Return'].apply(lambda x:math.log(x+1))\n",
    "    df['Strat Daily Return'] = np.where(df['Signal'] == 1, -df['Log Return'],0)\n",
    "    df['Cumulative Sum'] = df['Strat Daily Return'].cumsum()\n",
    "    return df"
   ]
  }
 ],
 "metadata": {
  "kernelspec": {
   "display_name": "Python 3",
   "language": "python",
   "name": "python3"
  },
  "language_info": {
   "codemirror_mode": {
    "name": "ipython",
    "version": 3
   },
   "file_extension": ".py",
   "mimetype": "text/x-python",
   "name": "python",
   "nbconvert_exporter": "python",
   "pygments_lexer": "ipython3",
   "version": "3.6.6"
  }
 },
 "nbformat": 4,
 "nbformat_minor": 2
}
