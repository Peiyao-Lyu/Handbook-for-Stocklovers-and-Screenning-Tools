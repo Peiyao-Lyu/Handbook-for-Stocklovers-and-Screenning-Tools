{
 "cells": [
  {
   "cell_type": "code",
   "execution_count": 1,
   "metadata": {},
   "outputs": [
    {
     "name": "stdout",
     "output_type": "stream",
     "text": [
      "Please input the ticker of the stock: aapl\n"
     ]
    }
   ],
   "source": [
    "ticker = input('Please input the ticker of the stock: ')"
   ]
  },
  {
   "cell_type": "code",
   "execution_count": 2,
   "metadata": {},
   "outputs": [],
   "source": [
    "import requests\n",
    "from bs4 import BeautifulSoup\n",
    "import pandas as pd\n",
    "import numpy as np\n",
    "\n",
    "def get_summary(ticker):\n",
    "    link = 'https://finance.yahoo.com/quote/' + ticker + '/?p' + ticker  \n",
    "    response = requests.get(link)\n",
    "    result_page = BeautifulSoup(response.content,'lxml')\n",
    "    Summary_list = []\n",
    "\n",
    "    for tag in result_page.find_all('td'):\n",
    "        Summary_list.append(tag.get_text())\n",
    "\n",
    "    values = list(Summary_list[1::2][i] for i in range(len(Summary_list[1::2])))\n",
    "    indices = list(Summary_list[::2][i] for i in range(len(Summary_list[::2])))\n",
    "    Summary_list = [indices,values]\n",
    "    df = pd.DataFrame(Summary_list).transpose()\n",
    "    df.columns = [\"Index\", \"Value\"]\n",
    "    df.set_index(\"Index\", inplace = True)\n",
    "    \n",
    "    return df\n",
    "    \n",
    "\n",
    "    "
   ]
  },
  {
   "cell_type": "code",
   "execution_count": 3,
   "metadata": {},
   "outputs": [
    {
     "data": {
      "text/html": [
       "<div>\n",
       "<style scoped>\n",
       "    .dataframe tbody tr th:only-of-type {\n",
       "        vertical-align: middle;\n",
       "    }\n",
       "\n",
       "    .dataframe tbody tr th {\n",
       "        vertical-align: top;\n",
       "    }\n",
       "\n",
       "    .dataframe thead th {\n",
       "        text-align: right;\n",
       "    }\n",
       "</style>\n",
       "<table border=\"1\" class=\"dataframe\">\n",
       "  <thead>\n",
       "    <tr style=\"text-align: right;\">\n",
       "      <th></th>\n",
       "      <th>Value</th>\n",
       "    </tr>\n",
       "    <tr>\n",
       "      <th>Index</th>\n",
       "      <th></th>\n",
       "    </tr>\n",
       "  </thead>\n",
       "  <tbody>\n",
       "    <tr>\n",
       "      <th>Previous Close</th>\n",
       "      <td>179.55</td>\n",
       "    </tr>\n",
       "    <tr>\n",
       "      <th>Open</th>\n",
       "      <td>180.29</td>\n",
       "    </tr>\n",
       "    <tr>\n",
       "      <th>Bid</th>\n",
       "      <td>178.82 x 1100</td>\n",
       "    </tr>\n",
       "    <tr>\n",
       "      <th>Ask</th>\n",
       "      <td>178.90 x 900</td>\n",
       "    </tr>\n",
       "    <tr>\n",
       "      <th>Day's Range</th>\n",
       "      <td>177.03 - 180.33</td>\n",
       "    </tr>\n",
       "    <tr>\n",
       "      <th>52 Week Range</th>\n",
       "      <td>150.24 - 233.47</td>\n",
       "    </tr>\n",
       "    <tr>\n",
       "      <th>Volume</th>\n",
       "      <td>39,531,549</td>\n",
       "    </tr>\n",
       "    <tr>\n",
       "      <th>Avg. Volume</th>\n",
       "      <td>38,567,290</td>\n",
       "    </tr>\n",
       "    <tr>\n",
       "      <th>Market Cap</th>\n",
       "      <td>847.433B</td>\n",
       "    </tr>\n",
       "    <tr>\n",
       "      <th>Beta (3Y Monthly)</th>\n",
       "      <td>1.21</td>\n",
       "    </tr>\n",
       "    <tr>\n",
       "      <th>PE Ratio (TTM)</th>\n",
       "      <td>14.99</td>\n",
       "    </tr>\n",
       "    <tr>\n",
       "      <th>EPS (TTM)</th>\n",
       "      <td>11.91</td>\n",
       "    </tr>\n",
       "    <tr>\n",
       "      <th>Earnings Date</th>\n",
       "      <td>Jan 30, 2019 - Feb 4, 2019</td>\n",
       "    </tr>\n",
       "    <tr>\n",
       "      <th>Forward Dividend &amp; Yield</th>\n",
       "      <td>2.92 (1.51%)</td>\n",
       "    </tr>\n",
       "    <tr>\n",
       "      <th>Ex-Dividend Date</th>\n",
       "      <td>2018-11-08</td>\n",
       "    </tr>\n",
       "    <tr>\n",
       "      <th>1y Target Est</th>\n",
       "      <td>231.32</td>\n",
       "    </tr>\n",
       "  </tbody>\n",
       "</table>\n",
       "</div>"
      ],
      "text/plain": [
       "                                               Value\n",
       "Index                                               \n",
       "Previous Close                                179.55\n",
       "Open                                          180.29\n",
       "Bid                                    178.82 x 1100\n",
       "Ask                                     178.90 x 900\n",
       "Day's Range                          177.03 - 180.33\n",
       "52 Week Range                        150.24 - 233.47\n",
       "Volume                                    39,531,549\n",
       "Avg. Volume                               38,567,290\n",
       "Market Cap                                  847.433B\n",
       "Beta (3Y Monthly)                               1.21\n",
       "PE Ratio (TTM)                                 14.99\n",
       "EPS (TTM)                                      11.91\n",
       "Earnings Date             Jan 30, 2019 - Feb 4, 2019\n",
       "Forward Dividend & Yield                2.92 (1.51%)\n",
       "Ex-Dividend Date                          2018-11-08\n",
       "1y Target Est                                 231.32"
      ]
     },
     "execution_count": 3,
     "metadata": {},
     "output_type": "execute_result"
    }
   ],
   "source": [
    "get_summary(ticker) "
   ]
  },
  {
   "cell_type": "code",
   "execution_count": null,
   "metadata": {},
   "outputs": [],
   "source": [
    "import requests\n",
    "from bs4 import BeautifulSoup\n",
    "import pandas as pd\n",
    "import numpy as np\n",
    "\n",
    "def get_ratios(ticker):\n",
    "    link = 'https://finance.yahoo.com/quote/' + ticker + '/key-statistics?p=' + ticker      \n",
    "    response = requests.get(link)\n",
    "    result_page = BeautifulSoup(response.content,'lxml')\n",
    "    df_list = []\n",
    "    for tag in result_page.find_all('td'):\n",
    "        df_list.append(tag.get_text())"
   ]
  },
  {
   "cell_type": "code",
   "execution_count": 128,
   "metadata": {},
   "outputs": [],
   "source": []
  },
  {
   "cell_type": "code",
   "execution_count": null,
   "metadata": {},
   "outputs": [],
   "source": []
  },
  {
   "cell_type": "code",
   "execution_count": null,
   "metadata": {},
   "outputs": [],
   "source": []
  },
  {
   "cell_type": "code",
   "execution_count": null,
   "metadata": {},
   "outputs": [],
   "source": []
  },
  {
   "cell_type": "code",
   "execution_count": null,
   "metadata": {},
   "outputs": [],
   "source": []
  },
  {
   "cell_type": "code",
   "execution_count": null,
   "metadata": {},
   "outputs": [],
   "source": []
  },
  {
   "cell_type": "code",
   "execution_count": null,
   "metadata": {},
   "outputs": [],
   "source": []
  },
  {
   "cell_type": "code",
   "execution_count": null,
   "metadata": {},
   "outputs": [],
   "source": []
  },
  {
   "cell_type": "code",
   "execution_count": null,
   "metadata": {},
   "outputs": [],
   "source": []
  },
  {
   "cell_type": "code",
   "execution_count": null,
   "metadata": {},
   "outputs": [],
   "source": []
  },
  {
   "cell_type": "code",
   "execution_count": null,
   "metadata": {},
   "outputs": [],
   "source": []
  },
  {
   "cell_type": "code",
   "execution_count": null,
   "metadata": {},
   "outputs": [],
   "source": []
  },
  {
   "cell_type": "code",
   "execution_count": 131,
   "metadata": {},
   "outputs": [],
   "source": []
  },
  {
   "cell_type": "code",
   "execution_count": 132,
   "metadata": {},
   "outputs": [],
   "source": []
  },
  {
   "cell_type": "code",
   "execution_count": null,
   "metadata": {},
   "outputs": [],
   "source": []
  },
  {
   "cell_type": "code",
   "execution_count": null,
   "metadata": {},
   "outputs": [],
   "source": []
  },
  {
   "cell_type": "code",
   "execution_count": null,
   "metadata": {},
   "outputs": [],
   "source": []
  },
  {
   "cell_type": "code",
   "execution_count": null,
   "metadata": {},
   "outputs": [],
   "source": []
  },
  {
   "cell_type": "code",
   "execution_count": null,
   "metadata": {},
   "outputs": [],
   "source": []
  },
  {
   "cell_type": "code",
   "execution_count": null,
   "metadata": {},
   "outputs": [],
   "source": []
  },
  {
   "cell_type": "code",
   "execution_count": null,
   "metadata": {},
   "outputs": [],
   "source": []
  },
  {
   "cell_type": "code",
   "execution_count": null,
   "metadata": {},
   "outputs": [],
   "source": []
  }
 ],
 "metadata": {
  "kernelspec": {
   "display_name": "Python 3",
   "language": "python",
   "name": "python3"
  },
  "language_info": {
   "codemirror_mode": {
    "name": "ipython",
    "version": 3
   },
   "file_extension": ".py",
   "mimetype": "text/x-python",
   "name": "python",
   "nbconvert_exporter": "python",
   "pygments_lexer": "ipython3",
   "version": "3.6.5"
  }
 },
 "nbformat": 4,
 "nbformat_minor": 2
}
