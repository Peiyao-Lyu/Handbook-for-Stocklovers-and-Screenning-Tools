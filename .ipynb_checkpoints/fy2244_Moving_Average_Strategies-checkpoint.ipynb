{
 "cells": [
  {
   "cell_type": "code",
   "execution_count": null,
   "metadata": {},
   "outputs": [],
   "source": [
    "import datetime\n",
    "import numpy as np\n",
    "import pandas as pd\n",
    "%matplotlib inline\n",
    "import pandas_datareader.data as web\n",
    "import fix_yahoo_finance as yf\n",
    "import math\n",
    "import matplotlib.pyplot as plt"
   ]
  },
  {
   "cell_type": "code",
   "execution_count": null,
   "metadata": {},
   "outputs": [],
   "source": [
    "def get_stock_df():\n",
    "    print('Enter the stock you want to look at (stock symbol): ')\n",
    "    ticker = input()\n",
    "    print('Enter the start time (in the form \"year-month-date\" e.g. 2017-10-01): ')\n",
    "    start_date = input()\n",
    "    start_list = start_date.split('-')\n",
    "    start = datetime.datetime(int(start_list[0]),int(start_list[1]),int(start_list[2]))\n",
    "    print('Enter the end time (in the form \"year-month-date\" e.g. 2017-10-01): ')\n",
    "    end_date = input()\n",
    "    end_list = end_date.split('-')\n",
    "    end = datetime.datetime(int(end_list[0]),int(end_list[1]),int(end_list[2]))\n",
    "    df = yf.download(ticker,start = start,end = end)\n",
    "    return df"
   ]
  },
  {
   "cell_type": "code",
   "execution_count": null,
   "metadata": {},
   "outputs": [],
   "source": [
    "def get_simple_moving_average(df, window):\n",
    "    df['Normal Return'] = df['Adj Close'].pct_change()\n",
    "    df[str(window) + ' SMA'] = df['Adj Close'].rolling(window).mean()\n",
    "    df['Signal'] = np.where(df[str(window) + 'day MA'] > df['Adj Close'],1,0)\n",
    "    df['Log Return'] = df['Normal Return'].apply(lambda x:math.log(x+1))\n",
    "    df['Strat Daily Return'] = np.where(df['Signal'] == 1, -df['Log Return'],0)\n",
    "    df['Cumulative Sum'] = df['Strat Daily Return'].cumsum()\n",
    "    plt.plot(df.reset_index()['Date'],df['Adj Close'], label = 'Close Price')\n",
    "    plt.plot(df.reset_index()['Date'],df[str(window) + ' SMA'], label = str(window) + ' SMA')\n",
    "    plt.legend()\n",
    "    plt.title('Cumulative Return in %')\n",
    "    plt.show()\n",
    "    if df['Cumulative Sum'][-1] >= 0:\n",
    "        print('Recomendation:')\n",
    "        print('The simple moving average startegy of window ' + str(window) + ' yields a positive cumulative return. Hence, the strategy could be taken into consideration.')\n",
    "    else:\n",
    "        print('Recommendation:')\n",
    "        print('The simple moving average startegy of window ' + str(window) + ' yields a negative cumulative return. Hence, the strategy should not be taken into consideration.')\n",
    "    \n",
    "    return df,df['Cumulative Sum'][-1]"
   ]
  },
  {
   "cell_type": "code",
   "execution_count": null,
   "metadata": {},
   "outputs": [],
   "source": [
    "def get_exponential_moving_average(df,window):\n",
    "    df[str(window) + ' EMA'] = pd.Series.ewm(df['Adj Close'], span=window).mean()\n",
    "    df['Signal'] = np.where(df[str(window) + ' EMA'] > df['Adj Close'],1,0)\n",
    "    df['Normal Return'] = df['Adj Close'].pct_change()\n",
    "    df['Log Return'] = df['Normal Return'].apply(lambda x:math.log(x+1))\n",
    "    df['Strat Daily Return'] = np.where(df['Signal'] == 1, -df['Log Return'],0)\n",
    "    df['Cumulative Sum'] = df['Strat Daily Return'].cumsum()\n",
    "    plt.plot(df.reset_index()['Date'],df['Adj Close'], label = 'Close Price')\n",
    "    plt.plot(df.reset_index()['Date'],df[str(window) + ' EMA'], label = str(window) + ' EMA')\n",
    "    plt.legend()\n",
    "    plt.title('Cumulative Return in %')\n",
    "    plt.show()\n",
    "    if df['Cumulative Sum'][-1] >= 0:\n",
    "        print('Recomendation:')\n",
    "        print('The exponential moving average startegy of window ' + str(window) + ' yields a positive cumulative return. Hence, the strategy could be taken into consideration.')\n",
    "    else:\n",
    "        print('Recommendation:')\n",
    "        print('The exponential moving average startegy of window ' + str(window) + ' yields a negative cumulative return. Hence, the strategy should not be taken into consideration.')\n",
    "    return df,df['Cumulative Sum'][-1]"
   ]
  },
  {
   "cell_type": "code",
   "execution_count": null,
   "metadata": {},
   "outputs": [],
   "source": [
    "def get_current_index():\n",
    "    import requests\n",
    "    import pandas as pd\n",
    "    from bs4 import BeautifulSoup\n",
    "    index_dict = dict()\n",
    "    url = \"https://www.briefing.com/investor/markets/stock-market-update/\"\n",
    "    response = requests.get(url)\n",
    "    print(response.status_code)\n",
    "    results_page = BeautifulSoup(response.content,'lxml')\n",
    "    all_td_tags = results_page.find_all('td', valign=\"top\")\n",
    "    count = 1\n",
    "    index_list = []\n",
    "    for tag in all_td_tags:\n",
    "        if count % 4 == 1:\n",
    "            index_name = tag.get_text()\n",
    "        elif count % 4 == 2:\n",
    "            index_data = tag.get_text()\n",
    "        elif count % 4 == 3:\n",
    "            index_change = tag.get_text()\n",
    "        elif count % 4 == 0:\n",
    "            index_change_pct = tag.get_text().strip()\n",
    "            index_change_pct = index_change_pct.replace('(','')\n",
    "            index_change_pct = index_change_pct.replace(')','')\n",
    "            index_change_pct = index_change_pct.replace('%','')\n",
    "            index_tuple = (index_name,index_data,index_change,index_change_pct)\n",
    "            index_list.append(index_tuple)\n",
    "        if count == 12:\n",
    "            break\n",
    "        count+=1\n",
    "    \n",
    "    index_name_list = [index_list[i][0] for i in range(3)]\n",
    "    index_data_list = [index_list[i][1] for i in range(3)]\n",
    "    index_change_list = [index_list[i][2] for i in range(3)]\n",
    "    index_change_pct_list = [index_list[i][3] for i in range(3)]\n",
    "    index_ = ['Current Data', 'Change', '%Change']\n",
    "    columns_ = index_name_list\n",
    "    df = pd.DataFrame([index_data_list,index_change_list,index_change_pct_list], index = index_, columns = columns_)\n",
    "    return df"
   ]
  },
  {
   "cell_type": "code",
   "execution_count": null,
   "metadata": {},
   "outputs": [],
   "source": [
    "def get_current_industry_watch():\n",
    "    import requests\n",
    "    import pandas as pd\n",
    "    from bs4 import BeautifulSoup\n",
    "    index_dict = dict()\n",
    "    url = \"https://www.briefing.com/investor/markets/stock-market-update/\"\n",
    "    response = requests.get(url)\n",
    "    results_page = BeautifulSoup(response.content,'lxml')\n",
    "    all_td_tags = results_page.find_all('td', valign=\"top\")\n",
    "    count = 1\n",
    "    strong_list = []\n",
    "    weak_list = []\n",
    "    for tag in all_td_tags:\n",
    "        if count == 17:\n",
    "            print(tag.get_text())\n",
    "        if count == 18:\n",
    "            print(tag.get_text())\n",
    "        count += 1"
   ]
  }
 ],
 "metadata": {
  "kernelspec": {
   "display_name": "Python 3",
   "language": "python",
   "name": "python3"
  },
  "language_info": {
   "codemirror_mode": {
    "name": "ipython",
    "version": 3
   },
   "file_extension": ".py",
   "mimetype": "text/x-python",
   "name": "python",
   "nbconvert_exporter": "python",
   "pygments_lexer": "ipython3",
   "version": "3.6.6"
  }
 },
 "nbformat": 4,
 "nbformat_minor": 2
}
