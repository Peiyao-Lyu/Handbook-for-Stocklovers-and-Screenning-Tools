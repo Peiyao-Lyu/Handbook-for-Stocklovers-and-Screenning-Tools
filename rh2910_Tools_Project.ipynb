{
 "cells": [
  {
   "cell_type": "code",
   "execution_count": 75,
   "metadata": {},
   "outputs": [],
   "source": [
    "#This function returns the best performing stock names and their percentage changes in a given period. \n",
    "#Daily: input 1; Weekly: input 2; Monthly: input 3; Quarterly: input 4; Year-to-Date: input 5\n",
    "\n",
    "def get_best_performers(x=1):\n",
    "    import requests\n",
    "    from bs4 import BeautifulSoup\n",
    "    import pandas as pd\n",
    "    from wordcloud import WordCloud, STOPWORDS\n",
    "    import matplotlib.pyplot as plt\n",
    "    \n",
    "    output_list = []\n",
    "    stock_list = []\n",
    "    pct_list = []\n",
    "    freq_list=[]\n",
    "    new_list=[]\n",
    "    cloud_list=[]\n",
    "    \n",
    "    if x==1:\n",
    "        url = \"https://csimarket.com/markets/Stocks.php?days=yday&=#tablecomp\"\n",
    "    elif x==2:\n",
    "        url = \"https://csimarket.com/markets/Stocks.php?days=week&=#tablecomp\"\n",
    "    elif x==3:\n",
    "        url = \"https://csimarket.com/markets/Stocks.php?days=month&=#tablecomp\"\n",
    "    elif x==4:\n",
    "        url = \"https://csimarket.com/markets/Stocks.php?days=quarter&=#tablecomp\"\n",
    "    elif x==5:\n",
    "        url = \"https://csimarket.com/markets/Stocks.php?days=ytd&=#tablecomp\"\n",
    "    else:\n",
    "        return 'Wrong input!'\n",
    "    \n",
    "    results_page = requests.get(url)\n",
    "    soup = BeautifulSoup(results_page.content,'lxml')\n",
    "    all_tags = soup.find_all('td', class_='lk')\n",
    "    for tag in all_tags:\n",
    "        output_list.append(tag.get_text().replace(',','').replace('\\xa0','').replace(' ',''))\n",
    "    for i in range(0,40):\n",
    "        if i % 2 == 0:\n",
    "            stock_list.append(output_list[i])\n",
    "        if i % 2 == 1:\n",
    "            pct_list.append((output_list[i]))\n",
    "    \n",
    "    df = pd.DataFrame(pct_list, stock_list)    \n",
    "    if x==1:\n",
    "        df.index.name = 'Daily Best Performing Stocks'\n",
    "    elif x==2:\n",
    "        df.index.name = 'Weekly Best Performing Stocks'\n",
    "    elif x==3:\n",
    "        df.index.name = 'Monthly Best Performing Stocks'\n",
    "    elif x==4:\n",
    "        df.index.name = 'Quarterly Best Performing Stocks'\n",
    "    elif x==5:\n",
    "        df.index.name = 'Year-to-Date Best Performing Stocks'\n",
    "    else:\n",
    "        return None\n",
    "    df.columns = ['pct_change']\n",
    "    \n",
    "    for i in pct_list:\n",
    "        x=round(float(i.replace('%','')))\n",
    "        freq_list.append(x)\n",
    "    new_list=stock_list+freq_list\n",
    "    for i in range(0,20):\n",
    "        for x in range(0,new_list[i+20]):\n",
    "            cloud_list.append(new_list[i])\n",
    "    \n",
    "    stock_string=(\" \").join(cloud_list)\n",
    "    wordcloud = WordCloud(width = 1600, height = 800, relative_scaling=0.5, max_words = 1000, max_font_size=60, min_font_size=10, \n",
    "                          background_color=\"white\", repeat=True, margin=50, random_state=3).generate(stock_string)\n",
    "    plt.figure(figsize=(20,10))\n",
    "    plt.imshow(wordcloud, interpolation=\"bilinear\")\n",
    "    plt.axis(\"off\")\n",
    "    plt.savefig(\"wordcloud\"+\".png\", bbox_inches='tight')\n",
    "    plt.show()\n",
    "    plt.close()\n",
    "    \n",
    "    return df\n"
   ]
  },
  {
   "cell_type": "code",
   "execution_count": 76,
   "metadata": {},
   "outputs": [],
   "source": [
    "def get_indexes():\n",
    "    import requests\n",
    "    from bs4 import BeautifulSoup\n",
    "    import pandas as pd\n",
    "    \n",
    "    index_list = []\n",
    "    last_list = []\n",
    "    \n",
    "    url = \"https://markets.wsj.com/\"\n",
    "    results_page = requests.get(url)\n",
    "    soup = BeautifulSoup(results_page.content,'lxml')\n",
    "    index_tags = soup.find_all('td', class_='firstCol')\n",
    "    last_tags = soup.find_all('td', class_='dataCol dataColCenter')\n",
    "    \n",
    "    for tag in index_tags:\n",
    "        index_list.append(tag.get_text().replace('\\n',''))\n",
    "    for tag in last_tags:\n",
    "        last_list.append(tag.get_text())\n",
    "    index_list = index_list[23:42]\n",
    "\n",
    "    df = pd.DataFrame(last_list, index_list)\n",
    "    df.index.name = 'Major U.S. Stock Indexes'\n",
    "    df.columns = ['Last']\n",
    "    \n",
    "    return df\n"
   ]
  },
  {
   "cell_type": "code",
   "execution_count": 77,
   "metadata": {},
   "outputs": [],
   "source": [
    "def get_currency_table():\n",
    "    import requests\n",
    "    from bs4 import BeautifulSoup\n",
    "    import pandas as pd\n",
    "    \n",
    "    cu_list = []\n",
    "    url = \"https://markets.on.nytimes.com/research/markets/currencies/currencies.asp\"\n",
    "    results_page = requests.get(url)\n",
    "    soup = BeautifulSoup(results_page.content,'lxml')\n",
    "    cu_tags = soup.find_all('td')\n",
    "    \n",
    "    for tag in cu_tags:\n",
    "        cu_list.append(tag.get_text())\n",
    "    cu_list=cu_list[60:90]\n",
    "    df = pd.DataFrame(cu_list[1::6], columns=['Dollar'])\n",
    "    df.rename(index={0:cu_list[::6][0],1:cu_list[::6][1],2:cu_list[::6][2],3:cu_list[::6][3],4:cu_list[::6][4]}, inplace=True)\n",
    "    df['Euro'] = cu_list[2::6]\n",
    "    df['Pound'] = cu_list[3::6]\n",
    "    df['Yen'] = cu_list[4::6]\n",
    "    df['Yuan'] = cu_list[5::6]\n",
    "    \n",
    "    return df\n"
   ]
  },
  {
   "cell_type": "code",
   "execution_count": 78,
   "metadata": {},
   "outputs": [],
   "source": [
    "def get_futures():\n",
    "    import requests\n",
    "    from bs4 import BeautifulSoup\n",
    "    import pandas as pd\n",
    "    import re\n",
    "\n",
    "    name=[]\n",
    "    name1=[]\n",
    "    price=[]\n",
    "    price1=[]\n",
    "    price2=[]\n",
    "    change=[]\n",
    "    pctchange=[]\n",
    "\n",
    "\n",
    "    pattern = r'\\d+.\\d+'\n",
    "    url = \"https://www.marketwatch.com/tools/futures\"\n",
    "    results_page = requests.get(url)\n",
    "    soup = BeautifulSoup(results_page.content,'lxml')\n",
    "    l1_tags = soup.find_all('td',class_='name')\n",
    "    l2_tags = soup.find_all('td',class_='price')\n",
    "    l3_tags = soup.find_all('td',class_='bgChange')\n",
    "    l4_tags = soup.find_all('td',class_='bgPercentChange')\n",
    "\n",
    "    for tag in l1_tags:\n",
    "        name.append(tag.get_text())   \n",
    "    for string in name:\n",
    "        l = string.split('/')\n",
    "        if 'quotes' in l:\n",
    "            for i in range(0, l.index('quotes')):\n",
    "                name1.append(l[i])\n",
    "        else:\n",
    "            name1.append(string)\n",
    "\n",
    "    for tag in l2_tags:\n",
    "        price.append(tag.get_text().replace('\\n',''))\n",
    "\n",
    "    for tag in l3_tags:\n",
    "        change.append(tag.get_text())\n",
    "\n",
    "    for tag in l4_tags:\n",
    "        pctchange.append(tag.get_text())\n",
    "\n",
    "    df = pd.DataFrame(price, columns=['Last'])\n",
    "    for i in range(0,len(name1)):\n",
    "        df.rename(index={i: name1[i]}, inplace=True)\n",
    "    df['Change'] = change\n",
    "    df['Change %'] = pctchange\n",
    "    df.index.name = 'Futures Contract Names'\n",
    "    return df\n"
   ]
  },
  {
   "cell_type": "code",
   "execution_count": null,
   "metadata": {},
   "outputs": [],
   "source": []
  },
  {
   "cell_type": "code",
   "execution_count": null,
   "metadata": {},
   "outputs": [],
   "source": [
    "get_best_performers(1)"
   ]
  },
  {
   "cell_type": "code",
   "execution_count": null,
   "metadata": {},
   "outputs": [],
   "source": [
    "get_indexes()"
   ]
  },
  {
   "cell_type": "code",
   "execution_count": null,
   "metadata": {},
   "outputs": [],
   "source": [
    "get_currency_table()"
   ]
  },
  {
   "cell_type": "code",
   "execution_count": null,
   "metadata": {},
   "outputs": [],
   "source": [
    "get_futures()"
   ]
  },
  {
   "cell_type": "code",
   "execution_count": null,
   "metadata": {},
   "outputs": [],
   "source": []
  },
  {
   "cell_type": "code",
   "execution_count": null,
   "metadata": {},
   "outputs": [],
   "source": []
  },
  {
   "cell_type": "code",
   "execution_count": null,
   "metadata": {},
   "outputs": [],
   "source": []
  },
  {
   "cell_type": "code",
   "execution_count": null,
   "metadata": {},
   "outputs": [],
   "source": []
  },
  {
   "cell_type": "code",
   "execution_count": null,
   "metadata": {},
   "outputs": [],
   "source": []
  },
  {
   "cell_type": "code",
   "execution_count": null,
   "metadata": {},
   "outputs": [],
   "source": []
  },
  {
   "cell_type": "code",
   "execution_count": null,
   "metadata": {},
   "outputs": [],
   "source": []
  },
  {
   "cell_type": "code",
   "execution_count": null,
   "metadata": {},
   "outputs": [],
   "source": []
  },
  {
   "cell_type": "code",
   "execution_count": null,
   "metadata": {},
   "outputs": [],
   "source": []
  },
  {
   "cell_type": "code",
   "execution_count": null,
   "metadata": {},
   "outputs": [],
   "source": []
  },
  {
   "cell_type": "code",
   "execution_count": null,
   "metadata": {},
   "outputs": [],
   "source": []
  },
  {
   "cell_type": "code",
   "execution_count": null,
   "metadata": {},
   "outputs": [],
   "source": []
  }
 ],
 "metadata": {
  "kernelspec": {
   "display_name": "Python 3",
   "language": "python",
   "name": "python3"
  },
  "language_info": {
   "codemirror_mode": {
    "name": "ipython",
    "version": 3
   },
   "file_extension": ".py",
   "mimetype": "text/x-python",
   "name": "python",
   "nbconvert_exporter": "python",
   "pygments_lexer": "ipython3",
   "version": "3.6.5"
  }
 },
 "nbformat": 4,
 "nbformat_minor": 2
}
