{
 "cells": [
  {
   "cell_type": "code",
   "execution_count": 4,
   "metadata": {},
   "outputs": [],
   "source": [
    "ticker = input('Please input the ticker of the stock: ')"
   ]
  },
  {
   "cell_type": "code",
   "execution_count": 5,
   "metadata": {},
   "outputs": [],
   "source": [
    "#common parts\n",
    "import requests\n",
    "from bs4 import BeautifulSoup\n",
    "link = 'https://finance.yahoo.com/quote/MS/financials?p=' + ticker\n",
    "response = requests.get(link)\n",
    "if response.status_code == 200:\n",
    "    pass\n",
    "else:\n",
    "    print('An error occurred when accessing the page!')"
   ]
  },
  {
   "cell_type": "code",
   "execution_count": 6,
   "metadata": {},
   "outputs": [],
   "source": [
    "def analysis(ticker):\n",
    "    import requests\n",
    "    from bs4 import BeautifulSoup\n",
    "    import pandas as pd\n",
    "    link = 'https://finance.yahoo.com/quote/' + ticker + '/analysis?p' + ticker\n",
    "    response = requests.get(link)\n",
    "    if response.status_code == 200:\n",
    "        pass\n",
    "    else:\n",
    "        print('An error occurred when accessing the page!')\n",
    "    result_page = BeautifulSoup(response.content,'lxml')\n",
    "    df_list = []\n",
    "    for table_tag in result_page.find_all('table'):\n",
    "        col,data_col,data_frame = [], [], []\n",
    "        for th_tag in table_tag.find_all('th'):\n",
    "            col.append(th_tag.get_text())\n",
    "        i = 1\n",
    "        for td_tag in table_tag.find_all('td'):\n",
    "            if 1 <= i <= 5:\n",
    "                data_col.append(td_tag.get_text())\n",
    "                i += 1\n",
    "            else:\n",
    "                data_frame.append(data_col)\n",
    "                data_col = []\n",
    "                i = 1\n",
    "                data_col.append(td_tag.get_text())\n",
    "                i += 1\n",
    "        data_frame.append(data_col)\n",
    "        df = pd.DataFrame(data_frame,columns = col)\n",
    "        df.set_index(col[0],inplace=True)\n",
    "        df_list.append(df)\n",
    "    return df_list[0]\n",
    "#     return df_list[0],df_list[1],df_list[2],df_list[3],df_list[4],df_list[5]"
   ]
  },
  {
   "cell_type": "code",
   "execution_count": 8,
   "metadata": {},
   "outputs": [
    {
     "data": {
      "text/html": [
       "<div>\n",
       "<style scoped>\n",
       "    .dataframe tbody tr th:only-of-type {\n",
       "        vertical-align: middle;\n",
       "    }\n",
       "\n",
       "    .dataframe tbody tr th {\n",
       "        vertical-align: top;\n",
       "    }\n",
       "\n",
       "    .dataframe thead th {\n",
       "        text-align: right;\n",
       "    }\n",
       "</style>\n",
       "<table border=\"1\" class=\"dataframe\">\n",
       "  <thead>\n",
       "    <tr style=\"text-align: right;\">\n",
       "      <th></th>\n",
       "      <th>Current Qtr. (Dec 2018)</th>\n",
       "      <th>Next Qtr. (Mar 2019)</th>\n",
       "      <th>Current Year (2018)</th>\n",
       "      <th>Next Year (2019)</th>\n",
       "    </tr>\n",
       "    <tr>\n",
       "      <th>Earnings Estimate</th>\n",
       "      <th></th>\n",
       "      <th></th>\n",
       "      <th></th>\n",
       "      <th></th>\n",
       "    </tr>\n",
       "  </thead>\n",
       "  <tbody>\n",
       "    <tr>\n",
       "      <th>No. of Analysts</th>\n",
       "      <td>22</td>\n",
       "      <td>18</td>\n",
       "      <td>23</td>\n",
       "      <td>26</td>\n",
       "    </tr>\n",
       "    <tr>\n",
       "      <th>Avg. Estimate</th>\n",
       "      <td>1.04</td>\n",
       "      <td>1.48</td>\n",
       "      <td>4.95</td>\n",
       "      <td>5.2</td>\n",
       "    </tr>\n",
       "    <tr>\n",
       "      <th>Low Estimate</th>\n",
       "      <td>0.87</td>\n",
       "      <td>1.34</td>\n",
       "      <td>4.8</td>\n",
       "      <td>4.8</td>\n",
       "    </tr>\n",
       "    <tr>\n",
       "      <th>High Estimate</th>\n",
       "      <td>1.16</td>\n",
       "      <td>1.62</td>\n",
       "      <td>5.05</td>\n",
       "      <td>5.48</td>\n",
       "    </tr>\n",
       "    <tr>\n",
       "      <th>Year Ago EPS</th>\n",
       "      <td>0.84</td>\n",
       "      <td>1.45</td>\n",
       "      <td>3.6</td>\n",
       "      <td>4.95</td>\n",
       "    </tr>\n",
       "  </tbody>\n",
       "</table>\n",
       "</div>"
      ],
      "text/plain": [
       "                  Current Qtr. (Dec 2018) Next Qtr. (Mar 2019)  \\\n",
       "Earnings Estimate                                                \n",
       "No. of Analysts                        22                   18   \n",
       "Avg. Estimate                        1.04                 1.48   \n",
       "Low Estimate                         0.87                 1.34   \n",
       "High Estimate                        1.16                 1.62   \n",
       "Year Ago EPS                         0.84                 1.45   \n",
       "\n",
       "                  Current Year (2018) Next Year (2019)  \n",
       "Earnings Estimate                                       \n",
       "No. of Analysts                    23               26  \n",
       "Avg. Estimate                    4.95              5.2  \n",
       "Low Estimate                      4.8              4.8  \n",
       "High Estimate                    5.05             5.48  \n",
       "Year Ago EPS                      3.6             4.95  "
      ]
     },
     "execution_count": 8,
     "metadata": {},
     "output_type": "execute_result"
    }
   ],
   "source": [
    "analysis(ticker)"
   ]
  },
  {
   "cell_type": "code",
   "execution_count": null,
   "metadata": {},
   "outputs": [],
   "source": []
  }
 ],
 "metadata": {
  "kernelspec": {
   "display_name": "Python 3",
   "language": "python",
   "name": "python3"
  },
  "language_info": {
   "codemirror_mode": {
    "name": "ipython",
    "version": 3
   },
   "file_extension": ".py",
   "mimetype": "text/x-python",
   "name": "python",
   "nbconvert_exporter": "python",
   "pygments_lexer": "ipython3",
   "version": "3.6.5"
  }
 },
 "nbformat": 4,
 "nbformat_minor": 2
}
