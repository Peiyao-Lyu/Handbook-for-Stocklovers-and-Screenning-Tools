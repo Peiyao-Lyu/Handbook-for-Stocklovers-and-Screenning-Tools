{
 "cells": [
  {
   "cell_type": "code",
   "execution_count": null,
   "metadata": {},
   "outputs": [],
   "source": [
    "import datetime\n",
    "import numpy as np\n",
    "import pandas as pd\n",
    "%matplotlib inline\n",
    "import pandas_datareader.data as web\n",
    "import fix_yahoo_finance as yf\n",
    "import math\n",
    "import matplotlib.pyplot as plt"
   ]
  },
  {
   "cell_type": "code",
   "execution_count": null,
   "metadata": {},
   "outputs": [],
   "source": [
    "def get_stock_df():\n",
    "    print('Enter the stock you want to look at (stock symbol): ')\n",
    "    ticker = input()\n",
    "    print('Enter the start time (in the form \"year-month-date\" e.g. 2017-10-01): ')\n",
    "    start_date = input()\n",
    "    start_list = start_date.split('-')\n",
    "    start = datetime.datetime(int(start_list[0]),int(start_list[1]),int(start_list[2]))\n",
    "    print('Enter the end time (in the form \"year-month-date\" e.g. 2017-10-01): ')\n",
    "    end_date = input()\n",
    "    end_list = end_date.split('-')\n",
    "    end = datetime.datetime(int(end_list[0]),int(end_list[1]),int(end_list[2]))\n",
    "    df = yf.download(ticker,start = start,end = end)\n",
    "    return df"
   ]
  },
  {
   "cell_type": "code",
   "execution_count": null,
   "metadata": {},
   "outputs": [],
   "source": [
    "def get_moving_average(df, window):\n",
    "    df['Normal Return'] = df['Adj Close'].pct_change()\n",
    "    df[str(window) + 'day MA'] = df['Adj Close'].rolling(window).mean()\n",
    "    df['Signal'] = np.where(df[str(window) + 'day MA'] > df['Adj Close'],1,0)\n",
    "    df['Log Return'] = df['Normal Return'].apply(lambda x:math.log(x+1))\n",
    "    df['Strat Daily Return'] = np.where(df['Signal'] == 1, -df['Log Return'],0)\n",
    "    df['Cumulative Sum'] = df['Strat Daily Return'].cumsum()\n",
    "    plt.plot(df.reset_index()['Date'],df['Cumulative Sum'])\n",
    "    plt.title('Cumulative Return in %')\n",
    "    plt.show()\n",
    "    return df"
   ]
  },
  {
   "cell_type": "code",
   "execution_count": null,
   "metadata": {},
   "outputs": [],
   "source": [
    "df = get_moving_average(df, 180)"
   ]
  }
 ],
 "metadata": {
  "kernelspec": {
   "display_name": "Python 3",
   "language": "python",
   "name": "python3"
  },
  "language_info": {
   "codemirror_mode": {
    "name": "ipython",
    "version": 3
   },
   "file_extension": ".py",
   "mimetype": "text/x-python",
   "name": "python",
   "nbconvert_exporter": "python",
   "pygments_lexer": "ipython3",
   "version": "3.6.6"
  }
 },
 "nbformat": 4,
 "nbformat_minor": 2
}
